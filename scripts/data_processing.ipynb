{
 "cells": [
  {
   "cell_type": "markdown",
   "id": "21126e91-864f-496d-a64f-4546c2d77af0",
   "metadata": {},
   "source": [
    "# Data Cleaning and transforming"
   ]
  },
  {
   "cell_type": "markdown",
   "id": "307b29b4-d973-4f55-8300-6faa96188baa",
   "metadata": {},
   "source": [
    "## Installing"
   ]
  },
  {
   "cell_type": "code",
   "execution_count": 72,
   "id": "450fb6ba-a9b2-4aa1-97a1-ca5276df4da9",
   "metadata": {},
   "outputs": [],
   "source": [
    "import pandas as pd"
   ]
  },
  {
   "cell_type": "markdown",
   "id": "73186f98-5e1a-4bc1-9098-289c0021fa54",
   "metadata": {},
   "source": [
    "## Collecting the data"
   ]
  },
  {
   "cell_type": "code",
   "execution_count": 96,
   "id": "02f50f1d-69b7-4cda-bef5-58bfacbf6f13",
   "metadata": {},
   "outputs": [],
   "source": [
    "data = pd.read_csv(\"dataset/Reviews.csv\", index_col='Id')"
   ]
  },
  {
   "cell_type": "markdown",
   "id": "cd2446e9-67f4-4012-83c2-80915d95980a",
   "metadata": {},
   "source": [
    "## Transforming Data"
   ]
  },
  {
   "cell_type": "markdown",
   "id": "d1ffced0-f0fc-44b0-a1ae-f2c3264163f7",
   "metadata": {},
   "source": [
    "Cleaning invalid values"
   ]
  },
  {
   "cell_type": "code",
   "execution_count": 97,
   "id": "ea5f95f1-71f8-450a-84b4-3fb286996a59",
   "metadata": {},
   "outputs": [],
   "source": [
    "t_data = data.copy()\n",
    "# Removing Null Rows\n",
    "t_data = t_data.dropna(subset=['ProductId', 'UserId', 'Time', 'Text'])\n",
    "\n",
    "# Removing Invalid Scores\n",
    "t_data = t_data[(t_data['Score'] >= 0) & (t_data['Score'] <= 5)]\n",
    "\n",
    "# Removing invalid helpfulness\n",
    "t_data = t_data[t_data['HelpfulnessNumerator'] <= t_data['HelpfulnessDenominator']]"
   ]
  },
  {
   "cell_type": "markdown",
   "id": "ad63d0a8-0457-4014-a202-045338ac9212",
   "metadata": {},
   "source": [
    "Adding a new column for *negative* helpfulness review"
   ]
  },
  {
   "cell_type": "code",
   "execution_count": 98,
   "id": "4dd9a8c5-b5ef-4262-8de8-cd827cc9db41",
   "metadata": {},
   "outputs": [],
   "source": [
    "negativeHelpfulness = data['HelpfulnessDenominator'] - data['HelpfulnessNumerator']\n",
    "pos = data.columns.get_loc('HelpfulnessNumerator')\n",
    "t_data.insert(pos+1, 'NegativeHelpfulness', negativeHelpfulness)\n",
    "t_data = t_data.rename(columns={'HelpfulnessNumerator': 'PositiveHelpfulness'})\n",
    "t_data = t_data.rename(columns={'HelpfulnessDenominator': 'TotalHelpfulness'})"
   ]
  },
  {
   "cell_type": "code",
   "execution_count": 99,
   "id": "d57f98b0-5062-4b77-a3ac-bf5a8a007fe6",
   "metadata": {},
   "outputs": [
    {
     "data": {
      "text/html": [
       "<div>\n",
       "<style scoped>\n",
       "    .dataframe tbody tr th:only-of-type {\n",
       "        vertical-align: middle;\n",
       "    }\n",
       "\n",
       "    .dataframe tbody tr th {\n",
       "        vertical-align: top;\n",
       "    }\n",
       "\n",
       "    .dataframe thead th {\n",
       "        text-align: right;\n",
       "    }\n",
       "</style>\n",
       "<table border=\"1\" class=\"dataframe\">\n",
       "  <thead>\n",
       "    <tr style=\"text-align: right;\">\n",
       "      <th></th>\n",
       "      <th>ProductId</th>\n",
       "      <th>UserId</th>\n",
       "      <th>ProfileName</th>\n",
       "      <th>PositiveHelpfulness</th>\n",
       "      <th>NegativeHelpfulness</th>\n",
       "      <th>TotalHelpfulness</th>\n",
       "      <th>Score</th>\n",
       "      <th>Time</th>\n",
       "      <th>Summary</th>\n",
       "      <th>Text</th>\n",
       "    </tr>\n",
       "    <tr>\n",
       "      <th>Id</th>\n",
       "      <th></th>\n",
       "      <th></th>\n",
       "      <th></th>\n",
       "      <th></th>\n",
       "      <th></th>\n",
       "      <th></th>\n",
       "      <th></th>\n",
       "      <th></th>\n",
       "      <th></th>\n",
       "      <th></th>\n",
       "    </tr>\n",
       "  </thead>\n",
       "  <tbody>\n",
       "    <tr>\n",
       "      <th>1</th>\n",
       "      <td>B001E4KFG0</td>\n",
       "      <td>A3SGXH7AUHU8GW</td>\n",
       "      <td>delmartian</td>\n",
       "      <td>1</td>\n",
       "      <td>0</td>\n",
       "      <td>1</td>\n",
       "      <td>5</td>\n",
       "      <td>1303862400</td>\n",
       "      <td>Good Quality Dog Food</td>\n",
       "      <td>I have bought several of the Vitality canned d...</td>\n",
       "    </tr>\n",
       "    <tr>\n",
       "      <th>2</th>\n",
       "      <td>B00813GRG4</td>\n",
       "      <td>A1D87F6ZCVE5NK</td>\n",
       "      <td>dll pa</td>\n",
       "      <td>0</td>\n",
       "      <td>0</td>\n",
       "      <td>0</td>\n",
       "      <td>1</td>\n",
       "      <td>1346976000</td>\n",
       "      <td>Not as Advertised</td>\n",
       "      <td>Product arrived labeled as Jumbo Salted Peanut...</td>\n",
       "    </tr>\n",
       "    <tr>\n",
       "      <th>3</th>\n",
       "      <td>B000LQOCH0</td>\n",
       "      <td>ABXLMWJIXXAIN</td>\n",
       "      <td>Natalia Corres \"Natalia Corres\"</td>\n",
       "      <td>1</td>\n",
       "      <td>0</td>\n",
       "      <td>1</td>\n",
       "      <td>4</td>\n",
       "      <td>1219017600</td>\n",
       "      <td>\"Delight\" says it all</td>\n",
       "      <td>This is a confection that has been around a fe...</td>\n",
       "    </tr>\n",
       "  </tbody>\n",
       "</table>\n",
       "</div>"
      ],
      "text/plain": [
       "     ProductId          UserId                      ProfileName  \\\n",
       "Id                                                                \n",
       "1   B001E4KFG0  A3SGXH7AUHU8GW                       delmartian   \n",
       "2   B00813GRG4  A1D87F6ZCVE5NK                           dll pa   \n",
       "3   B000LQOCH0   ABXLMWJIXXAIN  Natalia Corres \"Natalia Corres\"   \n",
       "\n",
       "    PositiveHelpfulness  NegativeHelpfulness  TotalHelpfulness  Score  \\\n",
       "Id                                                                      \n",
       "1                     1                    0                 1      5   \n",
       "2                     0                    0                 0      1   \n",
       "3                     1                    0                 1      4   \n",
       "\n",
       "          Time                Summary  \\\n",
       "Id                                      \n",
       "1   1303862400  Good Quality Dog Food   \n",
       "2   1346976000      Not as Advertised   \n",
       "3   1219017600  \"Delight\" says it all   \n",
       "\n",
       "                                                 Text  \n",
       "Id                                                     \n",
       "1   I have bought several of the Vitality canned d...  \n",
       "2   Product arrived labeled as Jumbo Salted Peanut...  \n",
       "3   This is a confection that has been around a fe...  "
      ]
     },
     "execution_count": 99,
     "metadata": {},
     "output_type": "execute_result"
    }
   ],
   "source": [
    "t_data.head(3)"
   ]
  },
  {
   "cell_type": "markdown",
   "id": "9d33dc21-de56-4420-9718-6e540ef10aae",
   "metadata": {},
   "source": [
    "Transforming \"Time\" column into *TIMESTAMP WITH TIME ZONE*"
   ]
  },
  {
   "cell_type": "code",
   "execution_count": 100,
   "id": "96624414-0793-4f75-a2e4-d632f0854967",
   "metadata": {},
   "outputs": [],
   "source": [
    "t_data['Time'] = pd.to_datetime(t_data['Time'], unit='s', utc=True)"
   ]
  },
  {
   "cell_type": "markdown",
   "id": "8fc935a7-2265-4fb7-bbcd-b2b169f6c0ec",
   "metadata": {},
   "source": [
    "## Data Preview"
   ]
  },
  {
   "cell_type": "code",
   "execution_count": 101,
   "id": "47c665b0-b42c-4e1f-903e-88c4fa385b87",
   "metadata": {},
   "outputs": [
    {
     "data": {
      "text/html": [
       "<div>\n",
       "<style scoped>\n",
       "    .dataframe tbody tr th:only-of-type {\n",
       "        vertical-align: middle;\n",
       "    }\n",
       "\n",
       "    .dataframe tbody tr th {\n",
       "        vertical-align: top;\n",
       "    }\n",
       "\n",
       "    .dataframe thead th {\n",
       "        text-align: right;\n",
       "    }\n",
       "</style>\n",
       "<table border=\"1\" class=\"dataframe\">\n",
       "  <thead>\n",
       "    <tr style=\"text-align: right;\">\n",
       "      <th></th>\n",
       "      <th>ProductId</th>\n",
       "      <th>UserId</th>\n",
       "      <th>ProfileName</th>\n",
       "      <th>PositiveHelpfulness</th>\n",
       "      <th>NegativeHelpfulness</th>\n",
       "      <th>TotalHelpfulness</th>\n",
       "      <th>Score</th>\n",
       "      <th>Time</th>\n",
       "      <th>Summary</th>\n",
       "      <th>Text</th>\n",
       "    </tr>\n",
       "    <tr>\n",
       "      <th>Id</th>\n",
       "      <th></th>\n",
       "      <th></th>\n",
       "      <th></th>\n",
       "      <th></th>\n",
       "      <th></th>\n",
       "      <th></th>\n",
       "      <th></th>\n",
       "      <th></th>\n",
       "      <th></th>\n",
       "      <th></th>\n",
       "    </tr>\n",
       "  </thead>\n",
       "  <tbody>\n",
       "    <tr>\n",
       "      <th>1</th>\n",
       "      <td>B001E4KFG0</td>\n",
       "      <td>A3SGXH7AUHU8GW</td>\n",
       "      <td>delmartian</td>\n",
       "      <td>1</td>\n",
       "      <td>0</td>\n",
       "      <td>1</td>\n",
       "      <td>5</td>\n",
       "      <td>2011-04-27 00:00:00+00:00</td>\n",
       "      <td>Good Quality Dog Food</td>\n",
       "      <td>I have bought several of the Vitality canned d...</td>\n",
       "    </tr>\n",
       "    <tr>\n",
       "      <th>2</th>\n",
       "      <td>B00813GRG4</td>\n",
       "      <td>A1D87F6ZCVE5NK</td>\n",
       "      <td>dll pa</td>\n",
       "      <td>0</td>\n",
       "      <td>0</td>\n",
       "      <td>0</td>\n",
       "      <td>1</td>\n",
       "      <td>2012-09-07 00:00:00+00:00</td>\n",
       "      <td>Not as Advertised</td>\n",
       "      <td>Product arrived labeled as Jumbo Salted Peanut...</td>\n",
       "    </tr>\n",
       "    <tr>\n",
       "      <th>3</th>\n",
       "      <td>B000LQOCH0</td>\n",
       "      <td>ABXLMWJIXXAIN</td>\n",
       "      <td>Natalia Corres \"Natalia Corres\"</td>\n",
       "      <td>1</td>\n",
       "      <td>0</td>\n",
       "      <td>1</td>\n",
       "      <td>4</td>\n",
       "      <td>2008-08-18 00:00:00+00:00</td>\n",
       "      <td>\"Delight\" says it all</td>\n",
       "      <td>This is a confection that has been around a fe...</td>\n",
       "    </tr>\n",
       "  </tbody>\n",
       "</table>\n",
       "</div>"
      ],
      "text/plain": [
       "     ProductId          UserId                      ProfileName  \\\n",
       "Id                                                                \n",
       "1   B001E4KFG0  A3SGXH7AUHU8GW                       delmartian   \n",
       "2   B00813GRG4  A1D87F6ZCVE5NK                           dll pa   \n",
       "3   B000LQOCH0   ABXLMWJIXXAIN  Natalia Corres \"Natalia Corres\"   \n",
       "\n",
       "    PositiveHelpfulness  NegativeHelpfulness  TotalHelpfulness  Score  \\\n",
       "Id                                                                      \n",
       "1                     1                    0                 1      5   \n",
       "2                     0                    0                 0      1   \n",
       "3                     1                    0                 1      4   \n",
       "\n",
       "                        Time                Summary  \\\n",
       "Id                                                    \n",
       "1  2011-04-27 00:00:00+00:00  Good Quality Dog Food   \n",
       "2  2012-09-07 00:00:00+00:00      Not as Advertised   \n",
       "3  2008-08-18 00:00:00+00:00  \"Delight\" says it all   \n",
       "\n",
       "                                                 Text  \n",
       "Id                                                     \n",
       "1   I have bought several of the Vitality canned d...  \n",
       "2   Product arrived labeled as Jumbo Salted Peanut...  \n",
       "3   This is a confection that has been around a fe...  "
      ]
     },
     "execution_count": 101,
     "metadata": {},
     "output_type": "execute_result"
    }
   ],
   "source": [
    "t_data.head(3)"
   ]
  },
  {
   "cell_type": "markdown",
   "id": "923e0c15-ec8b-4c5a-8447-2166fd8b97dd",
   "metadata": {},
   "source": [
    "## Load to CSV"
   ]
  },
  {
   "cell_type": "code",
   "execution_count": 102,
   "id": "6ff5cc8b-dca8-4767-872b-fc63eed2c100",
   "metadata": {},
   "outputs": [],
   "source": [
    "t_data.to_csv('dataset/Reviews_t.csv')"
   ]
  }
 ],
 "metadata": {
  "kernelspec": {
   "display_name": "Python 3 (ipykernel)",
   "language": "python",
   "name": "python3"
  },
  "language_info": {
   "codemirror_mode": {
    "name": "ipython",
    "version": 3
   },
   "file_extension": ".py",
   "mimetype": "text/x-python",
   "name": "python",
   "nbconvert_exporter": "python",
   "pygments_lexer": "ipython3",
   "version": "3.13.1"
  }
 },
 "nbformat": 4,
 "nbformat_minor": 5
}
