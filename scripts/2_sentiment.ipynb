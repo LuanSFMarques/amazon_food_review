{
 "cells": [
  {
   "cell_type": "markdown",
   "id": "00777c0d-1bc8-4356-a06f-cf47c45a28ed",
   "metadata": {},
   "source": [
    "# Sentiment Algorithm"
   ]
  },
  {
   "cell_type": "markdown",
   "id": "c22dbd9f-b059-448b-97ae-e993553e9dab",
   "metadata": {},
   "source": [
    "Here we gonna do an algorithm that show the most frequent and significant words for a positive review (4 to 5 stars) and negative review (0 to 2)"
   ]
  },
  {
   "cell_type": "code",
   "execution_count": 204,
   "id": "b64371ea-8b7a-46b5-8098-b4159c254e77",
   "metadata": {},
   "outputs": [
    {
     "name": "stderr",
     "output_type": "stream",
     "text": [
      "[nltk_data] Downloading package stopwords to\n",
      "[nltk_data]     C:\\Users\\Luan\\AppData\\Roaming\\nltk_data...\n",
      "[nltk_data]   Package stopwords is already up-to-date!\n",
      "[nltk_data] Downloading package words to\n",
      "[nltk_data]     C:\\Users\\Luan\\AppData\\Roaming\\nltk_data...\n",
      "[nltk_data]   Package words is already up-to-date!\n"
     ]
    },
    {
     "data": {
      "text/plain": [
       "True"
      ]
     },
     "execution_count": 204,
     "metadata": {},
     "output_type": "execute_result"
    }
   ],
   "source": [
    "nltk.download('stopwords')"
   ]
  },
  {
   "cell_type": "code",
   "execution_count": 6,
   "id": "cb53f47f-d1e3-4bef-85f2-d3a557cdadae",
   "metadata": {},
   "outputs": [],
   "source": [
    "import pandas as pd\n",
    "import numpy as np\n",
    "import string\n",
    "import re\n",
    "from nltk.corpus import stopwords # Need to install\n",
    "from nltk.corpus import words as words_nltk"
   ]
  },
  {
   "cell_type": "code",
   "execution_count": 7,
   "id": "6d08dccd-1820-498e-a13c-a6a9457d3d3e",
   "metadata": {},
   "outputs": [],
   "source": [
    "data = pd.read_csv('dataset/Reviews_t.csv')\n",
    "\n",
    "data = data[(data['Score']<3) | (data['Score']>3)]"
   ]
  },
  {
   "cell_type": "markdown",
   "id": "1b9c6e37-09c9-4425-9099-c6f53bae36c1",
   "metadata": {},
   "source": [
    "Getting the frequency of words in positive reviews and negative reviews"
   ]
  },
  {
   "cell_type": "code",
   "execution_count": 8,
   "id": "805a6971-d517-42c0-88f2-7f7c5802a084",
   "metadata": {},
   "outputs": [],
   "source": [
    "low_dict = {}\n",
    "high_dict = {}\n",
    "\n",
    "stop_words = set(stopwords.words('english')) # Preset to remove \"stop words\" like \"before, and, i, again\"\n",
    "english_words = set(words_nltk.words()) # Preset to remove words that are not present in the english language\n",
    "translator = str.maketrans('', '', string.punctuation) # Preset to remove punctuation\n",
    "\n",
    "for index, row in data.iterrows():\n",
    "    r_text = row['Text']\n",
    "\n",
    "    r_text = r_text.translate(translator) # Remove punctuation\n",
    "    words = np.array(r_text.split())\n",
    "\n",
    "    r_text = re.sub(r'\\d+', '', r_text) # Remove any number\n",
    "\n",
    "    mask = np.vectorize(lambda w: w.lower() not in stop_words)(words)\n",
    "    words = words[mask]\n",
    "\n",
    "    mask = np.vectorize(lambda w: w.lower() in english_words)(words)\n",
    "    words = words[mask]\n",
    "    \n",
    "    words = np.char.capitalize(words)\n",
    "    \n",
    "    low = row['Score'] < 3\n",
    "    \n",
    "    for w in words:\n",
    "        w = w.capitalize()\n",
    "        if low:\n",
    "            low_dict[w] = low_dict.get(w, 0) + 1 # Similar to \"setdefault\"\n",
    "        else:\n",
    "            high_dict[w] = high_dict.get(w, 0) + 1"
   ]
  },
  {
   "cell_type": "markdown",
   "id": "9521f137-0418-421c-b26f-295339b444e1",
   "metadata": {},
   "source": [
    "Getting the most significant words using a ratio methods, the lower the value, the most it appear only in negative reviews. The bigger the value, the most it appear in positive reviews."
   ]
  },
  {
   "cell_type": "code",
   "execution_count": 9,
   "id": "93bbe25c-16d5-443c-b891-07c6b28e7086",
   "metadata": {},
   "outputs": [],
   "source": [
    "word_scores = {}\n",
    "all_words = set(low_dict.keys()).union(high_dict.keys())\n",
    "\n",
    "for word in all_words:\n",
    "    low_count = low_dict.get(word, 0)\n",
    "    high_count = high_dict.get(word, 0)\n",
    "\n",
    "    score = (high_count + 1) / (low_count + 1)  # Frequency ratio\n",
    "    word_scores[word] = score"
   ]
  },
  {
   "cell_type": "markdown",
   "id": "3a8b11fa-7c62-4f4f-865d-2a885875992c",
   "metadata": {},
   "source": [
    "Creating a pd.Series"
   ]
  },
  {
   "cell_type": "code",
   "execution_count": 10,
   "id": "f8a15ec7-bdcc-4936-ba72-2d3756532919",
   "metadata": {},
   "outputs": [],
   "source": [
    "low_dict\n",
    "low_df = pd.DataFrame(list(low_dict.items()), columns=['Word', 'CountForNegative'])\n",
    "high_df = pd.DataFrame(list(high_dict.items()), columns=['Word', 'CountForPositive'])\n",
    "all_df = pd.DataFrame(list(word_scores.items()), columns=['Word', 'WordRatio'])\n",
    "\n",
    "combined = pd.merge(low_df, high_df, on='Word', how='outer')\n",
    "combined = combined.fillna(0)\n",
    "combined = pd.merge(combined, all_df, on='Word', how='left')\n",
    "\n",
    "combined['TotalCount'] = combined['CountForPositive'] + combined['CountForNegative']\n",
    "\n",
    "sentiment_df = combined[['Word', 'CountForPositive', 'CountForNegative', 'TotalCount', 'WordRatio']] # Reorder"
   ]
  },
  {
   "cell_type": "markdown",
   "id": "a691357a-3664-4646-a852-0164f354a094",
   "metadata": {},
   "source": [
    "Finally, here we have the final dataframe with all the words frequency for positive or negative."
   ]
  },
  {
   "cell_type": "code",
   "execution_count": 21,
   "id": "426f76d6-ec0e-4b3b-b845-5370104478e1",
   "metadata": {},
   "outputs": [
    {
     "data": {
      "text/html": [
       "<div>\n",
       "<style scoped>\n",
       "    .dataframe tbody tr th:only-of-type {\n",
       "        vertical-align: middle;\n",
       "    }\n",
       "\n",
       "    .dataframe tbody tr th {\n",
       "        vertical-align: top;\n",
       "    }\n",
       "\n",
       "    .dataframe thead th {\n",
       "        text-align: right;\n",
       "    }\n",
       "</style>\n",
       "<table border=\"1\" class=\"dataframe\">\n",
       "  <thead>\n",
       "    <tr style=\"text-align: right;\">\n",
       "      <th></th>\n",
       "      <th>Word</th>\n",
       "      <th>CountForPositive</th>\n",
       "      <th>CountForNegative</th>\n",
       "      <th>TotalCount</th>\n",
       "      <th>WordRatio</th>\n",
       "    </tr>\n",
       "    <tr>\n",
       "      <th>Word_Id</th>\n",
       "      <th></th>\n",
       "      <th></th>\n",
       "      <th></th>\n",
       "      <th></th>\n",
       "      <th></th>\n",
       "    </tr>\n",
       "  </thead>\n",
       "  <tbody>\n",
       "    <tr>\n",
       "      <th>0</th>\n",
       "      <td>Aa</td>\n",
       "      <td>78.0</td>\n",
       "      <td>17.0</td>\n",
       "      <td>95.0</td>\n",
       "      <td>4.3889</td>\n",
       "    </tr>\n",
       "    <tr>\n",
       "      <th>1</th>\n",
       "      <td>Aardvark</td>\n",
       "      <td>1.0</td>\n",
       "      <td>0.0</td>\n",
       "      <td>1.0</td>\n",
       "      <td>2.0000</td>\n",
       "    </tr>\n",
       "    <tr>\n",
       "      <th>2</th>\n",
       "      <td>Aback</td>\n",
       "      <td>69.0</td>\n",
       "      <td>8.0</td>\n",
       "      <td>77.0</td>\n",
       "      <td>7.7778</td>\n",
       "    </tr>\n",
       "    <tr>\n",
       "      <th>3</th>\n",
       "      <td>Abalone</td>\n",
       "      <td>3.0</td>\n",
       "      <td>2.0</td>\n",
       "      <td>5.0</td>\n",
       "      <td>1.3333</td>\n",
       "    </tr>\n",
       "    <tr>\n",
       "      <th>4</th>\n",
       "      <td>Abandon</td>\n",
       "      <td>45.0</td>\n",
       "      <td>11.0</td>\n",
       "      <td>56.0</td>\n",
       "      <td>3.8333</td>\n",
       "    </tr>\n",
       "    <tr>\n",
       "      <th>...</th>\n",
       "      <td>...</td>\n",
       "      <td>...</td>\n",
       "      <td>...</td>\n",
       "      <td>...</td>\n",
       "      <td>...</td>\n",
       "    </tr>\n",
       "    <tr>\n",
       "      <th>27201</th>\n",
       "      <td>Zorro</td>\n",
       "      <td>1.0</td>\n",
       "      <td>0.0</td>\n",
       "      <td>1.0</td>\n",
       "      <td>2.0000</td>\n",
       "    </tr>\n",
       "    <tr>\n",
       "      <th>27202</th>\n",
       "      <td>Zoster</td>\n",
       "      <td>1.0</td>\n",
       "      <td>0.0</td>\n",
       "      <td>1.0</td>\n",
       "      <td>2.0000</td>\n",
       "    </tr>\n",
       "    <tr>\n",
       "      <th>27203</th>\n",
       "      <td>Zowie</td>\n",
       "      <td>11.0</td>\n",
       "      <td>0.0</td>\n",
       "      <td>11.0</td>\n",
       "      <td>12.0000</td>\n",
       "    </tr>\n",
       "    <tr>\n",
       "      <th>27204</th>\n",
       "      <td>Zucchini</td>\n",
       "      <td>179.0</td>\n",
       "      <td>24.0</td>\n",
       "      <td>203.0</td>\n",
       "      <td>7.2000</td>\n",
       "    </tr>\n",
       "    <tr>\n",
       "      <th>27205</th>\n",
       "      <td>Zwieback</td>\n",
       "      <td>11.0</td>\n",
       "      <td>2.0</td>\n",
       "      <td>13.0</td>\n",
       "      <td>4.0000</td>\n",
       "    </tr>\n",
       "  </tbody>\n",
       "</table>\n",
       "<p>27206 rows × 5 columns</p>\n",
       "</div>"
      ],
      "text/plain": [
       "             Word  CountForPositive  CountForNegative  TotalCount  WordRatio\n",
       "Word_Id                                                                     \n",
       "0              Aa              78.0              17.0        95.0     4.3889\n",
       "1        Aardvark               1.0               0.0         1.0     2.0000\n",
       "2           Aback              69.0               8.0        77.0     7.7778\n",
       "3         Abalone               3.0               2.0         5.0     1.3333\n",
       "4         Abandon              45.0              11.0        56.0     3.8333\n",
       "...           ...               ...               ...         ...        ...\n",
       "27201       Zorro               1.0               0.0         1.0     2.0000\n",
       "27202      Zoster               1.0               0.0         1.0     2.0000\n",
       "27203       Zowie              11.0               0.0        11.0    12.0000\n",
       "27204    Zucchini             179.0              24.0       203.0     7.2000\n",
       "27205    Zwieback              11.0               2.0        13.0     4.0000\n",
       "\n",
       "[27206 rows x 5 columns]"
      ]
     },
     "execution_count": 21,
     "metadata": {},
     "output_type": "execute_result"
    }
   ],
   "source": [
    "sentiment_df.index.name = 'Word_Id'\n",
    "sentiment_df['WordRatio'] = sentiment_df['WordRatio'].round(4)\n",
    "sentiment_df"
   ]
  },
  {
   "cell_type": "markdown",
   "id": "36b885f9-7021-4cfc-9e1d-89ad07fa1cb3",
   "metadata": {},
   "source": [
    "Saving the dataframe to csv..."
   ]
  },
  {
   "cell_type": "code",
   "execution_count": 23,
   "id": "89179093-52f5-4072-8bc0-98711ff3ff25",
   "metadata": {},
   "outputs": [],
   "source": [
    "sentiment_df.to_csv('dataset/Reviews_sentiment.csv')"
   ]
  },
  {
   "cell_type": "code",
   "execution_count": 25,
   "id": "1208019c-1163-4c74-b327-3e5586506b10",
   "metadata": {},
   "outputs": [
    {
     "data": {
      "text/html": [
       "<div>\n",
       "<style scoped>\n",
       "    .dataframe tbody tr th:only-of-type {\n",
       "        vertical-align: middle;\n",
       "    }\n",
       "\n",
       "    .dataframe tbody tr th {\n",
       "        vertical-align: top;\n",
       "    }\n",
       "\n",
       "    .dataframe thead th {\n",
       "        text-align: right;\n",
       "    }\n",
       "</style>\n",
       "<table border=\"1\" class=\"dataframe\">\n",
       "  <thead>\n",
       "    <tr style=\"text-align: right;\">\n",
       "      <th></th>\n",
       "      <th>CountForPositive</th>\n",
       "      <th>CountForNegative</th>\n",
       "      <th>TotalCount</th>\n",
       "      <th>WordRatio</th>\n",
       "    </tr>\n",
       "  </thead>\n",
       "  <tbody>\n",
       "    <tr>\n",
       "      <th>count</th>\n",
       "      <td>27206.000000</td>\n",
       "      <td>27206.000000</td>\n",
       "      <td>27206.00000</td>\n",
       "      <td>27206.000000</td>\n",
       "    </tr>\n",
       "    <tr>\n",
       "      <th>mean</th>\n",
       "      <td>493.513012</td>\n",
       "      <td>103.338418</td>\n",
       "      <td>596.85143</td>\n",
       "      <td>4.878683</td>\n",
       "    </tr>\n",
       "    <tr>\n",
       "      <th>std</th>\n",
       "      <td>3802.516381</td>\n",
       "      <td>773.706104</td>\n",
       "      <td>4523.34188</td>\n",
       "      <td>6.090526</td>\n",
       "    </tr>\n",
       "    <tr>\n",
       "      <th>min</th>\n",
       "      <td>0.000000</td>\n",
       "      <td>0.000000</td>\n",
       "      <td>1.00000</td>\n",
       "      <td>0.005000</td>\n",
       "    </tr>\n",
       "    <tr>\n",
       "      <th>25%</th>\n",
       "      <td>2.000000</td>\n",
       "      <td>0.000000</td>\n",
       "      <td>2.00000</td>\n",
       "      <td>2.000000</td>\n",
       "    </tr>\n",
       "    <tr>\n",
       "      <th>50%</th>\n",
       "      <td>8.000000</td>\n",
       "      <td>2.000000</td>\n",
       "      <td>10.00000</td>\n",
       "      <td>3.000000</td>\n",
       "    </tr>\n",
       "    <tr>\n",
       "      <th>75%</th>\n",
       "      <td>54.000000</td>\n",
       "      <td>13.000000</td>\n",
       "      <td>69.00000</td>\n",
       "      <td>6.000000</td>\n",
       "    </tr>\n",
       "    <tr>\n",
       "      <th>max</th>\n",
       "      <td>182182.000000</td>\n",
       "      <td>43673.000000</td>\n",
       "      <td>225855.00000</td>\n",
       "      <td>158.000000</td>\n",
       "    </tr>\n",
       "  </tbody>\n",
       "</table>\n",
       "</div>"
      ],
      "text/plain": [
       "       CountForPositive  CountForNegative    TotalCount     WordRatio\n",
       "count      27206.000000      27206.000000   27206.00000  27206.000000\n",
       "mean         493.513012        103.338418     596.85143      4.878683\n",
       "std         3802.516381        773.706104    4523.34188      6.090526\n",
       "min            0.000000          0.000000       1.00000      0.005000\n",
       "25%            2.000000          0.000000       2.00000      2.000000\n",
       "50%            8.000000          2.000000      10.00000      3.000000\n",
       "75%           54.000000         13.000000      69.00000      6.000000\n",
       "max       182182.000000      43673.000000  225855.00000    158.000000"
      ]
     },
     "execution_count": 25,
     "metadata": {},
     "output_type": "execute_result"
    }
   ],
   "source": [
    "sentiment_df.describe()"
   ]
  }
 ],
 "metadata": {
  "kernelspec": {
   "display_name": "Python 3 (ipykernel)",
   "language": "python",
   "name": "python3"
  },
  "language_info": {
   "codemirror_mode": {
    "name": "ipython",
    "version": 3
   },
   "file_extension": ".py",
   "mimetype": "text/x-python",
   "name": "python",
   "nbconvert_exporter": "python",
   "pygments_lexer": "ipython3",
   "version": "3.13.1"
  }
 },
 "nbformat": 4,
 "nbformat_minor": 5
}
